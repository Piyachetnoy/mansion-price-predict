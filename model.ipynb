{
  "nbformat": 4,
  "nbformat_minor": 0,
  "metadata": {
    "colab": {
      "provenance": [],
      "collapsed_sections": [
        "Z5ugnsjc5VCR",
        "Nv0mnmjI5ZDC"
      ],
      "authorship_tag": "ABX9TyMgjICToSIvnoQeHstBHb3Q",
      "include_colab_link": true
    },
    "kernelspec": {
      "name": "python3",
      "display_name": "Python 3"
    },
    "language_info": {
      "name": "python"
    }
  },
  "cells": [
    {
      "cell_type": "markdown",
      "metadata": {
        "id": "view-in-github",
        "colab_type": "text"
      },
      "source": [
        "<a href=\"https://colab.research.google.com/github/nalgo-intern/team-a-2024-summer-08-26/blob/model/yoshitomi_model_rent_ver2.ipynb\" target=\"_parent\"><img src=\"https://colab.research.google.com/assets/colab-badge.svg\" alt=\"Open In Colab\"/></a>"
      ]
    },
    {
      "cell_type": "markdown",
      "source": [
        "#実装"
      ],
      "metadata": {
        "id": "YStodnNc5P-W"
      }
    },
    {
      "cell_type": "markdown",
      "source": [
        "##ライブラリ"
      ],
      "metadata": {
        "id": "Z5ugnsjc5VCR"
      }
    },
    {
      "cell_type": "code",
      "source": [
        "from google.colab import drive\n",
        "import pandas as pd"
      ],
      "metadata": {
        "id": "b7qgT2VXXp-e"
      },
      "execution_count": 1,
      "outputs": []
    },
    {
      "cell_type": "code",
      "source": [
        "from sklearn.model_selection import train_test_split\n",
        "from sklearn.preprocessing import StandardScaler\n",
        "from sklearn.metrics import roc_auc_score\n",
        "import lightgbm as lgb\n",
        "from sklearn.metrics import mean_absolute_error,  r2_score"
      ],
      "metadata": {
        "id": "Dz6Vj2l75UQe",
        "colab": {
          "base_uri": "https://localhost:8080/"
        },
        "outputId": "53cc8986-c67b-483a-dba1-deffbe03c2c6"
      },
      "execution_count": 2,
      "outputs": [
        {
          "output_type": "stream",
          "name": "stderr",
          "text": [
            "/usr/local/lib/python3.10/dist-packages/dask/dataframe/__init__.py:42: FutureWarning: \n",
            "Dask dataframe query planning is disabled because dask-expr is not installed.\n",
            "\n",
            "You can install it with `pip install dask[dataframe]` or `conda install dask`.\n",
            "This will raise in a future version.\n",
            "\n",
            "  warnings.warn(msg, FutureWarning)\n"
          ]
        }
      ]
    },
    {
      "cell_type": "code",
      "source": [
        "import numpy as np\n",
        "import pandas as pd\n",
        "import re\n",
        "import seaborn as sns\n",
        "import matplotlib.pyplot as plt\n",
        "from sklearn.preprocessing import LabelEncoder"
      ],
      "metadata": {
        "id": "kabnECTSYI3R"
      },
      "execution_count": 3,
      "outputs": []
    },
    {
      "cell_type": "markdown",
      "source": [
        "##機械学習モデルの作成"
      ],
      "metadata": {
        "id": "Nv0mnmjI5ZDC"
      }
    },
    {
      "cell_type": "code",
      "source": [
        "# Google Driveをマウント\n",
        "drive.mount('/content/drive')\n",
        "\n",
        "# ファイルパスを指定してCSVファイルを読み込む\n",
        "file_path = '/content/drive/MyDrive/Colab Notebooks/0829_train.csv'\n",
        "train= pd.read_csv(file_path)\n",
        "\n",
        "# データの表示\n",
        "print(train.head())\n",
        "train.shape"
      ],
      "metadata": {
        "colab": {
          "base_uri": "https://localhost:8080/"
        },
        "id": "HYRazfDNXB0u",
        "outputId": "7d72d84a-14f5-4bd2-d15d-012cbdf962ba"
      },
      "execution_count": 61,
      "outputs": [
        {
          "output_type": "stream",
          "name": "stdout",
          "text": [
            "Drive already mounted at /content/drive; to attempt to forcibly remount, call drive.mount(\"/content/drive\", force_remount=True).\n",
            "   23区  築年数  階数  階        賃料    管理費    間取り        敷金        礼金   専有面積   最寄駅  \\\n",
            "0  葛飾区   13   5  2  123000.0   7000   1LDK  123000.0  123000.0  46.47   綾瀬駅   \n",
            "1  葛飾区   13   5  5  128000.0   7000   1LDK  128000.0  128000.0  47.52   綾瀬駅   \n",
            "2  荒川区   20  10  3  170000.0  12000   3LDK  170000.0  170000.0  69.83  三ノ輪駅   \n",
            "3  荒川区   18   4  1  144000.0   9000   3LDK  144000.0  288000.0  58.93   尾久駅   \n",
            "4  荒川区   18   4  4  160000.0  10000  3SLDK  160000.0  320000.0  66.54   尾久駅   \n",
            "\n",
            "   23区_label  最寄駅_label  賃料_管理費合計  間取り_label  部屋数  LDK  S  \n",
            "0         20        344  130000.0          2    1    3  0  \n",
            "1         20        344  135000.0          2    1    3  0  \n",
            "2         19          6  182000.0         17    3    3  0  \n",
            "3         19        159  153000.0         17    3    3  0  \n",
            "4         19        159  170000.0         19    3    3  1  \n"
          ]
        },
        {
          "output_type": "execute_result",
          "data": {
            "text/plain": [
              "(42872, 18)"
            ]
          },
          "metadata": {},
          "execution_count": 61
        }
      ]
    },
    {
      "cell_type": "code",
      "source": [
        "train"
      ],
      "metadata": {
        "colab": {
          "base_uri": "https://localhost:8080/",
          "height": 424
        },
        "id": "lNFPeysGJh5Q",
        "outputId": "8ccb7ba5-962c-43a7-de29-711ee1b98140"
      },
      "execution_count": 41,
      "outputs": [
        {
          "output_type": "execute_result",
          "data": {
            "text/plain": [
              "       23区  築年数  階数  階        賃料    管理費    間取り        敷金        礼金    専有面積  \\\n",
              "0      葛飾区   13   5  2  123000.0   7000   1LDK  123000.0  123000.0   46.47   \n",
              "1      葛飾区   13   5  5  128000.0   7000   1LDK  128000.0  128000.0   47.52   \n",
              "2      荒川区   20  10  3  170000.0  12000   3LDK  170000.0  170000.0   69.83   \n",
              "3      荒川区   18   4  1  144000.0   9000   3LDK  144000.0  288000.0   58.93   \n",
              "4      荒川区   18   4  4  160000.0  10000  3SLDK  160000.0  320000.0   66.54   \n",
              "...    ...  ...  .. ..       ...    ...    ...       ...       ...     ...   \n",
              "42867  中央区   29   3  3   95000.0   5000   1LDK   95000.0   95000.0   45.10   \n",
              "42868  中央区   29   3  2  110000.0   5000   2LDK  110000.0  110000.0   58.44   \n",
              "42869  中央区   30   3  3  116000.0   4000   2LDK  116000.0  116000.0   64.53   \n",
              "42870  中央区    0   4  2  198000.0   8000   2LDK  198000.0  396000.0   59.87   \n",
              "42871  中央区   37   6  3  398000.0  50000  5SLDK  398000.0  398000.0  176.60   \n",
              "\n",
              "       間取り_label  部屋数  LDK  S  23区_label  賃料_管理費合計  \n",
              "0              2    1    3  0         20  130000.0  \n",
              "1              2    1    3  0         20  135000.0  \n",
              "2             17    3    3  0         19  182000.0  \n",
              "3             17    3    3  0         19  153000.0  \n",
              "4             19    3    3  1         19  170000.0  \n",
              "...          ...  ...  ... ..        ...       ...  \n",
              "42867          2    1    3  0          1  100000.0  \n",
              "42868         11    2    3  0          1  115000.0  \n",
              "42869         11    2    3  0          1  120000.0  \n",
              "42870         11    2    3  0          1  206000.0  \n",
              "42871         26    5    3  1          1  448000.0  \n",
              "\n",
              "[42872 rows x 16 columns]"
            ],
            "text/html": [
              "\n",
              "  <div id=\"df-68d26ff9-f4b5-4d3f-8720-c7c36d5a76d5\" class=\"colab-df-container\">\n",
              "    <div>\n",
              "<style scoped>\n",
              "    .dataframe tbody tr th:only-of-type {\n",
              "        vertical-align: middle;\n",
              "    }\n",
              "\n",
              "    .dataframe tbody tr th {\n",
              "        vertical-align: top;\n",
              "    }\n",
              "\n",
              "    .dataframe thead th {\n",
              "        text-align: right;\n",
              "    }\n",
              "</style>\n",
              "<table border=\"1\" class=\"dataframe\">\n",
              "  <thead>\n",
              "    <tr style=\"text-align: right;\">\n",
              "      <th></th>\n",
              "      <th>23区</th>\n",
              "      <th>築年数</th>\n",
              "      <th>階数</th>\n",
              "      <th>階</th>\n",
              "      <th>賃料</th>\n",
              "      <th>管理費</th>\n",
              "      <th>間取り</th>\n",
              "      <th>敷金</th>\n",
              "      <th>礼金</th>\n",
              "      <th>専有面積</th>\n",
              "      <th>間取り_label</th>\n",
              "      <th>部屋数</th>\n",
              "      <th>LDK</th>\n",
              "      <th>S</th>\n",
              "      <th>23区_label</th>\n",
              "      <th>賃料_管理費合計</th>\n",
              "    </tr>\n",
              "  </thead>\n",
              "  <tbody>\n",
              "    <tr>\n",
              "      <th>0</th>\n",
              "      <td>葛飾区</td>\n",
              "      <td>13</td>\n",
              "      <td>5</td>\n",
              "      <td>2</td>\n",
              "      <td>123000.0</td>\n",
              "      <td>7000</td>\n",
              "      <td>1LDK</td>\n",
              "      <td>123000.0</td>\n",
              "      <td>123000.0</td>\n",
              "      <td>46.47</td>\n",
              "      <td>2</td>\n",
              "      <td>1</td>\n",
              "      <td>3</td>\n",
              "      <td>0</td>\n",
              "      <td>20</td>\n",
              "      <td>130000.0</td>\n",
              "    </tr>\n",
              "    <tr>\n",
              "      <th>1</th>\n",
              "      <td>葛飾区</td>\n",
              "      <td>13</td>\n",
              "      <td>5</td>\n",
              "      <td>5</td>\n",
              "      <td>128000.0</td>\n",
              "      <td>7000</td>\n",
              "      <td>1LDK</td>\n",
              "      <td>128000.0</td>\n",
              "      <td>128000.0</td>\n",
              "      <td>47.52</td>\n",
              "      <td>2</td>\n",
              "      <td>1</td>\n",
              "      <td>3</td>\n",
              "      <td>0</td>\n",
              "      <td>20</td>\n",
              "      <td>135000.0</td>\n",
              "    </tr>\n",
              "    <tr>\n",
              "      <th>2</th>\n",
              "      <td>荒川区</td>\n",
              "      <td>20</td>\n",
              "      <td>10</td>\n",
              "      <td>3</td>\n",
              "      <td>170000.0</td>\n",
              "      <td>12000</td>\n",
              "      <td>3LDK</td>\n",
              "      <td>170000.0</td>\n",
              "      <td>170000.0</td>\n",
              "      <td>69.83</td>\n",
              "      <td>17</td>\n",
              "      <td>3</td>\n",
              "      <td>3</td>\n",
              "      <td>0</td>\n",
              "      <td>19</td>\n",
              "      <td>182000.0</td>\n",
              "    </tr>\n",
              "    <tr>\n",
              "      <th>3</th>\n",
              "      <td>荒川区</td>\n",
              "      <td>18</td>\n",
              "      <td>4</td>\n",
              "      <td>1</td>\n",
              "      <td>144000.0</td>\n",
              "      <td>9000</td>\n",
              "      <td>3LDK</td>\n",
              "      <td>144000.0</td>\n",
              "      <td>288000.0</td>\n",
              "      <td>58.93</td>\n",
              "      <td>17</td>\n",
              "      <td>3</td>\n",
              "      <td>3</td>\n",
              "      <td>0</td>\n",
              "      <td>19</td>\n",
              "      <td>153000.0</td>\n",
              "    </tr>\n",
              "    <tr>\n",
              "      <th>4</th>\n",
              "      <td>荒川区</td>\n",
              "      <td>18</td>\n",
              "      <td>4</td>\n",
              "      <td>4</td>\n",
              "      <td>160000.0</td>\n",
              "      <td>10000</td>\n",
              "      <td>3SLDK</td>\n",
              "      <td>160000.0</td>\n",
              "      <td>320000.0</td>\n",
              "      <td>66.54</td>\n",
              "      <td>19</td>\n",
              "      <td>3</td>\n",
              "      <td>3</td>\n",
              "      <td>1</td>\n",
              "      <td>19</td>\n",
              "      <td>170000.0</td>\n",
              "    </tr>\n",
              "    <tr>\n",
              "      <th>...</th>\n",
              "      <td>...</td>\n",
              "      <td>...</td>\n",
              "      <td>...</td>\n",
              "      <td>...</td>\n",
              "      <td>...</td>\n",
              "      <td>...</td>\n",
              "      <td>...</td>\n",
              "      <td>...</td>\n",
              "      <td>...</td>\n",
              "      <td>...</td>\n",
              "      <td>...</td>\n",
              "      <td>...</td>\n",
              "      <td>...</td>\n",
              "      <td>...</td>\n",
              "      <td>...</td>\n",
              "      <td>...</td>\n",
              "    </tr>\n",
              "    <tr>\n",
              "      <th>42867</th>\n",
              "      <td>中央区</td>\n",
              "      <td>29</td>\n",
              "      <td>3</td>\n",
              "      <td>3</td>\n",
              "      <td>95000.0</td>\n",
              "      <td>5000</td>\n",
              "      <td>1LDK</td>\n",
              "      <td>95000.0</td>\n",
              "      <td>95000.0</td>\n",
              "      <td>45.10</td>\n",
              "      <td>2</td>\n",
              "      <td>1</td>\n",
              "      <td>3</td>\n",
              "      <td>0</td>\n",
              "      <td>1</td>\n",
              "      <td>100000.0</td>\n",
              "    </tr>\n",
              "    <tr>\n",
              "      <th>42868</th>\n",
              "      <td>中央区</td>\n",
              "      <td>29</td>\n",
              "      <td>3</td>\n",
              "      <td>2</td>\n",
              "      <td>110000.0</td>\n",
              "      <td>5000</td>\n",
              "      <td>2LDK</td>\n",
              "      <td>110000.0</td>\n",
              "      <td>110000.0</td>\n",
              "      <td>58.44</td>\n",
              "      <td>11</td>\n",
              "      <td>2</td>\n",
              "      <td>3</td>\n",
              "      <td>0</td>\n",
              "      <td>1</td>\n",
              "      <td>115000.0</td>\n",
              "    </tr>\n",
              "    <tr>\n",
              "      <th>42869</th>\n",
              "      <td>中央区</td>\n",
              "      <td>30</td>\n",
              "      <td>3</td>\n",
              "      <td>3</td>\n",
              "      <td>116000.0</td>\n",
              "      <td>4000</td>\n",
              "      <td>2LDK</td>\n",
              "      <td>116000.0</td>\n",
              "      <td>116000.0</td>\n",
              "      <td>64.53</td>\n",
              "      <td>11</td>\n",
              "      <td>2</td>\n",
              "      <td>3</td>\n",
              "      <td>0</td>\n",
              "      <td>1</td>\n",
              "      <td>120000.0</td>\n",
              "    </tr>\n",
              "    <tr>\n",
              "      <th>42870</th>\n",
              "      <td>中央区</td>\n",
              "      <td>0</td>\n",
              "      <td>4</td>\n",
              "      <td>2</td>\n",
              "      <td>198000.0</td>\n",
              "      <td>8000</td>\n",
              "      <td>2LDK</td>\n",
              "      <td>198000.0</td>\n",
              "      <td>396000.0</td>\n",
              "      <td>59.87</td>\n",
              "      <td>11</td>\n",
              "      <td>2</td>\n",
              "      <td>3</td>\n",
              "      <td>0</td>\n",
              "      <td>1</td>\n",
              "      <td>206000.0</td>\n",
              "    </tr>\n",
              "    <tr>\n",
              "      <th>42871</th>\n",
              "      <td>中央区</td>\n",
              "      <td>37</td>\n",
              "      <td>6</td>\n",
              "      <td>3</td>\n",
              "      <td>398000.0</td>\n",
              "      <td>50000</td>\n",
              "      <td>5SLDK</td>\n",
              "      <td>398000.0</td>\n",
              "      <td>398000.0</td>\n",
              "      <td>176.60</td>\n",
              "      <td>26</td>\n",
              "      <td>5</td>\n",
              "      <td>3</td>\n",
              "      <td>1</td>\n",
              "      <td>1</td>\n",
              "      <td>448000.0</td>\n",
              "    </tr>\n",
              "  </tbody>\n",
              "</table>\n",
              "<p>42872 rows × 16 columns</p>\n",
              "</div>\n",
              "    <div class=\"colab-df-buttons\">\n",
              "\n",
              "  <div class=\"colab-df-container\">\n",
              "    <button class=\"colab-df-convert\" onclick=\"convertToInteractive('df-68d26ff9-f4b5-4d3f-8720-c7c36d5a76d5')\"\n",
              "            title=\"Convert this dataframe to an interactive table.\"\n",
              "            style=\"display:none;\">\n",
              "\n",
              "  <svg xmlns=\"http://www.w3.org/2000/svg\" height=\"24px\" viewBox=\"0 -960 960 960\">\n",
              "    <path d=\"M120-120v-720h720v720H120Zm60-500h600v-160H180v160Zm220 220h160v-160H400v160Zm0 220h160v-160H400v160ZM180-400h160v-160H180v160Zm440 0h160v-160H620v160ZM180-180h160v-160H180v160Zm440 0h160v-160H620v160Z\"/>\n",
              "  </svg>\n",
              "    </button>\n",
              "\n",
              "  <style>\n",
              "    .colab-df-container {\n",
              "      display:flex;\n",
              "      gap: 12px;\n",
              "    }\n",
              "\n",
              "    .colab-df-convert {\n",
              "      background-color: #E8F0FE;\n",
              "      border: none;\n",
              "      border-radius: 50%;\n",
              "      cursor: pointer;\n",
              "      display: none;\n",
              "      fill: #1967D2;\n",
              "      height: 32px;\n",
              "      padding: 0 0 0 0;\n",
              "      width: 32px;\n",
              "    }\n",
              "\n",
              "    .colab-df-convert:hover {\n",
              "      background-color: #E2EBFA;\n",
              "      box-shadow: 0px 1px 2px rgba(60, 64, 67, 0.3), 0px 1px 3px 1px rgba(60, 64, 67, 0.15);\n",
              "      fill: #174EA6;\n",
              "    }\n",
              "\n",
              "    .colab-df-buttons div {\n",
              "      margin-bottom: 4px;\n",
              "    }\n",
              "\n",
              "    [theme=dark] .colab-df-convert {\n",
              "      background-color: #3B4455;\n",
              "      fill: #D2E3FC;\n",
              "    }\n",
              "\n",
              "    [theme=dark] .colab-df-convert:hover {\n",
              "      background-color: #434B5C;\n",
              "      box-shadow: 0px 1px 3px 1px rgba(0, 0, 0, 0.15);\n",
              "      filter: drop-shadow(0px 1px 2px rgba(0, 0, 0, 0.3));\n",
              "      fill: #FFFFFF;\n",
              "    }\n",
              "  </style>\n",
              "\n",
              "    <script>\n",
              "      const buttonEl =\n",
              "        document.querySelector('#df-68d26ff9-f4b5-4d3f-8720-c7c36d5a76d5 button.colab-df-convert');\n",
              "      buttonEl.style.display =\n",
              "        google.colab.kernel.accessAllowed ? 'block' : 'none';\n",
              "\n",
              "      async function convertToInteractive(key) {\n",
              "        const element = document.querySelector('#df-68d26ff9-f4b5-4d3f-8720-c7c36d5a76d5');\n",
              "        const dataTable =\n",
              "          await google.colab.kernel.invokeFunction('convertToInteractive',\n",
              "                                                    [key], {});\n",
              "        if (!dataTable) return;\n",
              "\n",
              "        const docLinkHtml = 'Like what you see? Visit the ' +\n",
              "          '<a target=\"_blank\" href=https://colab.research.google.com/notebooks/data_table.ipynb>data table notebook</a>'\n",
              "          + ' to learn more about interactive tables.';\n",
              "        element.innerHTML = '';\n",
              "        dataTable['output_type'] = 'display_data';\n",
              "        await google.colab.output.renderOutput(dataTable, element);\n",
              "        const docLink = document.createElement('div');\n",
              "        docLink.innerHTML = docLinkHtml;\n",
              "        element.appendChild(docLink);\n",
              "      }\n",
              "    </script>\n",
              "  </div>\n",
              "\n",
              "\n",
              "<div id=\"df-07801cf2-74a3-4806-98a9-3b55a3bfa268\">\n",
              "  <button class=\"colab-df-quickchart\" onclick=\"quickchart('df-07801cf2-74a3-4806-98a9-3b55a3bfa268')\"\n",
              "            title=\"Suggest charts\"\n",
              "            style=\"display:none;\">\n",
              "\n",
              "<svg xmlns=\"http://www.w3.org/2000/svg\" height=\"24px\"viewBox=\"0 0 24 24\"\n",
              "     width=\"24px\">\n",
              "    <g>\n",
              "        <path d=\"M19 3H5c-1.1 0-2 .9-2 2v14c0 1.1.9 2 2 2h14c1.1 0 2-.9 2-2V5c0-1.1-.9-2-2-2zM9 17H7v-7h2v7zm4 0h-2V7h2v10zm4 0h-2v-4h2v4z\"/>\n",
              "    </g>\n",
              "</svg>\n",
              "  </button>\n",
              "\n",
              "<style>\n",
              "  .colab-df-quickchart {\n",
              "      --bg-color: #E8F0FE;\n",
              "      --fill-color: #1967D2;\n",
              "      --hover-bg-color: #E2EBFA;\n",
              "      --hover-fill-color: #174EA6;\n",
              "      --disabled-fill-color: #AAA;\n",
              "      --disabled-bg-color: #DDD;\n",
              "  }\n",
              "\n",
              "  [theme=dark] .colab-df-quickchart {\n",
              "      --bg-color: #3B4455;\n",
              "      --fill-color: #D2E3FC;\n",
              "      --hover-bg-color: #434B5C;\n",
              "      --hover-fill-color: #FFFFFF;\n",
              "      --disabled-bg-color: #3B4455;\n",
              "      --disabled-fill-color: #666;\n",
              "  }\n",
              "\n",
              "  .colab-df-quickchart {\n",
              "    background-color: var(--bg-color);\n",
              "    border: none;\n",
              "    border-radius: 50%;\n",
              "    cursor: pointer;\n",
              "    display: none;\n",
              "    fill: var(--fill-color);\n",
              "    height: 32px;\n",
              "    padding: 0;\n",
              "    width: 32px;\n",
              "  }\n",
              "\n",
              "  .colab-df-quickchart:hover {\n",
              "    background-color: var(--hover-bg-color);\n",
              "    box-shadow: 0 1px 2px rgba(60, 64, 67, 0.3), 0 1px 3px 1px rgba(60, 64, 67, 0.15);\n",
              "    fill: var(--button-hover-fill-color);\n",
              "  }\n",
              "\n",
              "  .colab-df-quickchart-complete:disabled,\n",
              "  .colab-df-quickchart-complete:disabled:hover {\n",
              "    background-color: var(--disabled-bg-color);\n",
              "    fill: var(--disabled-fill-color);\n",
              "    box-shadow: none;\n",
              "  }\n",
              "\n",
              "  .colab-df-spinner {\n",
              "    border: 2px solid var(--fill-color);\n",
              "    border-color: transparent;\n",
              "    border-bottom-color: var(--fill-color);\n",
              "    animation:\n",
              "      spin 1s steps(1) infinite;\n",
              "  }\n",
              "\n",
              "  @keyframes spin {\n",
              "    0% {\n",
              "      border-color: transparent;\n",
              "      border-bottom-color: var(--fill-color);\n",
              "      border-left-color: var(--fill-color);\n",
              "    }\n",
              "    20% {\n",
              "      border-color: transparent;\n",
              "      border-left-color: var(--fill-color);\n",
              "      border-top-color: var(--fill-color);\n",
              "    }\n",
              "    30% {\n",
              "      border-color: transparent;\n",
              "      border-left-color: var(--fill-color);\n",
              "      border-top-color: var(--fill-color);\n",
              "      border-right-color: var(--fill-color);\n",
              "    }\n",
              "    40% {\n",
              "      border-color: transparent;\n",
              "      border-right-color: var(--fill-color);\n",
              "      border-top-color: var(--fill-color);\n",
              "    }\n",
              "    60% {\n",
              "      border-color: transparent;\n",
              "      border-right-color: var(--fill-color);\n",
              "    }\n",
              "    80% {\n",
              "      border-color: transparent;\n",
              "      border-right-color: var(--fill-color);\n",
              "      border-bottom-color: var(--fill-color);\n",
              "    }\n",
              "    90% {\n",
              "      border-color: transparent;\n",
              "      border-bottom-color: var(--fill-color);\n",
              "    }\n",
              "  }\n",
              "</style>\n",
              "\n",
              "  <script>\n",
              "    async function quickchart(key) {\n",
              "      const quickchartButtonEl =\n",
              "        document.querySelector('#' + key + ' button');\n",
              "      quickchartButtonEl.disabled = true;  // To prevent multiple clicks.\n",
              "      quickchartButtonEl.classList.add('colab-df-spinner');\n",
              "      try {\n",
              "        const charts = await google.colab.kernel.invokeFunction(\n",
              "            'suggestCharts', [key], {});\n",
              "      } catch (error) {\n",
              "        console.error('Error during call to suggestCharts:', error);\n",
              "      }\n",
              "      quickchartButtonEl.classList.remove('colab-df-spinner');\n",
              "      quickchartButtonEl.classList.add('colab-df-quickchart-complete');\n",
              "    }\n",
              "    (() => {\n",
              "      let quickchartButtonEl =\n",
              "        document.querySelector('#df-07801cf2-74a3-4806-98a9-3b55a3bfa268 button');\n",
              "      quickchartButtonEl.style.display =\n",
              "        google.colab.kernel.accessAllowed ? 'block' : 'none';\n",
              "    })();\n",
              "  </script>\n",
              "</div>\n",
              "\n",
              "  <div id=\"id_53dfb554-3852-4d1c-a46a-674a6f6b07b7\">\n",
              "    <style>\n",
              "      .colab-df-generate {\n",
              "        background-color: #E8F0FE;\n",
              "        border: none;\n",
              "        border-radius: 50%;\n",
              "        cursor: pointer;\n",
              "        display: none;\n",
              "        fill: #1967D2;\n",
              "        height: 32px;\n",
              "        padding: 0 0 0 0;\n",
              "        width: 32px;\n",
              "      }\n",
              "\n",
              "      .colab-df-generate:hover {\n",
              "        background-color: #E2EBFA;\n",
              "        box-shadow: 0px 1px 2px rgba(60, 64, 67, 0.3), 0px 1px 3px 1px rgba(60, 64, 67, 0.15);\n",
              "        fill: #174EA6;\n",
              "      }\n",
              "\n",
              "      [theme=dark] .colab-df-generate {\n",
              "        background-color: #3B4455;\n",
              "        fill: #D2E3FC;\n",
              "      }\n",
              "\n",
              "      [theme=dark] .colab-df-generate:hover {\n",
              "        background-color: #434B5C;\n",
              "        box-shadow: 0px 1px 3px 1px rgba(0, 0, 0, 0.15);\n",
              "        filter: drop-shadow(0px 1px 2px rgba(0, 0, 0, 0.3));\n",
              "        fill: #FFFFFF;\n",
              "      }\n",
              "    </style>\n",
              "    <button class=\"colab-df-generate\" onclick=\"generateWithVariable('train')\"\n",
              "            title=\"Generate code using this dataframe.\"\n",
              "            style=\"display:none;\">\n",
              "\n",
              "  <svg xmlns=\"http://www.w3.org/2000/svg\" height=\"24px\"viewBox=\"0 0 24 24\"\n",
              "       width=\"24px\">\n",
              "    <path d=\"M7,19H8.4L18.45,9,17,7.55,7,17.6ZM5,21V16.75L18.45,3.32a2,2,0,0,1,2.83,0l1.4,1.43a1.91,1.91,0,0,1,.58,1.4,1.91,1.91,0,0,1-.58,1.4L9.25,21ZM18.45,9,17,7.55Zm-12,3A5.31,5.31,0,0,0,4.9,8.1,5.31,5.31,0,0,0,1,6.5,5.31,5.31,0,0,0,4.9,4.9,5.31,5.31,0,0,0,6.5,1,5.31,5.31,0,0,0,8.1,4.9,5.31,5.31,0,0,0,12,6.5,5.46,5.46,0,0,0,6.5,12Z\"/>\n",
              "  </svg>\n",
              "    </button>\n",
              "    <script>\n",
              "      (() => {\n",
              "      const buttonEl =\n",
              "        document.querySelector('#id_53dfb554-3852-4d1c-a46a-674a6f6b07b7 button.colab-df-generate');\n",
              "      buttonEl.style.display =\n",
              "        google.colab.kernel.accessAllowed ? 'block' : 'none';\n",
              "\n",
              "      buttonEl.onclick = () => {\n",
              "        google.colab.notebook.generateWithVariable('train');\n",
              "      }\n",
              "      })();\n",
              "    </script>\n",
              "  </div>\n",
              "\n",
              "    </div>\n",
              "  </div>\n"
            ],
            "application/vnd.google.colaboratory.intrinsic+json": {
              "type": "dataframe",
              "variable_name": "train",
              "summary": "{\n  \"name\": \"train\",\n  \"rows\": 42872,\n  \"fields\": [\n    {\n      \"column\": \"23\\u533a\",\n      \"properties\": {\n        \"dtype\": \"category\",\n        \"num_unique_values\": 23,\n        \"samples\": [\n          \"\\u6c5f\\u6771\\u533a\",\n          \"\\u6587\\u4eac\\u533a\",\n          \"\\u845b\\u98fe\\u533a\"\n        ],\n        \"semantic_type\": \"\",\n        \"description\": \"\"\n      }\n    },\n    {\n      \"column\": \"\\u7bc9\\u5e74\\u6570\",\n      \"properties\": {\n        \"dtype\": \"number\",\n        \"std\": 14,\n        \"min\": 0,\n        \"max\": 99,\n        \"num_unique_values\": 76,\n        \"samples\": [\n          16,\n          23,\n          12\n        ],\n        \"semantic_type\": \"\",\n        \"description\": \"\"\n      }\n    },\n    {\n      \"column\": \"\\u968e\\u6570\",\n      \"properties\": {\n        \"dtype\": \"number\",\n        \"std\": 7,\n        \"min\": 1,\n        \"max\": 60,\n        \"num_unique_values\": 56,\n        \"samples\": [\n          5,\n          8,\n          60\n        ],\n        \"semantic_type\": \"\",\n        \"description\": \"\"\n      }\n    },\n    {\n      \"column\": \"\\u968e\",\n      \"properties\": {\n        \"dtype\": \"number\",\n        \"std\": 4,\n        \"min\": 1,\n        \"max\": 56,\n        \"num_unique_values\": 53,\n        \"samples\": [\n          29,\n          41,\n          42\n        ],\n        \"semantic_type\": \"\",\n        \"description\": \"\"\n      }\n    },\n    {\n      \"column\": \"\\u8cc3\\u6599\",\n      \"properties\": {\n        \"dtype\": \"number\",\n        \"std\": 83605.28755131425,\n        \"min\": 8700.0,\n        \"max\": 1500000.0,\n        \"num_unique_values\": 697,\n        \"samples\": [\n          163000.0,\n          129500.0,\n          55000.0\n        ],\n        \"semantic_type\": \"\",\n        \"description\": \"\"\n      }\n    },\n    {\n      \"column\": \"\\u7ba1\\u7406\\u8cbb\",\n      \"properties\": {\n        \"dtype\": \"number\",\n        \"std\": 5632,\n        \"min\": 1,\n        \"max\": 180000,\n        \"num_unique_values\": 199,\n        \"samples\": [\n          35000,\n          6000,\n          7100\n        ],\n        \"semantic_type\": \"\",\n        \"description\": \"\"\n      }\n    },\n    {\n      \"column\": \"\\u9593\\u53d6\\u308a\",\n      \"properties\": {\n        \"dtype\": \"category\",\n        \"num_unique_values\": 32,\n        \"samples\": [\n          \"5SLDK\",\n          \"2SDK\",\n          \"6K\"\n        ],\n        \"semantic_type\": \"\",\n        \"description\": \"\"\n      }\n    },\n    {\n      \"column\": \"\\u6577\\u91d1\",\n      \"properties\": {\n        \"dtype\": \"number\",\n        \"std\": 122696.44014355914,\n        \"min\": 1700.0000000000002,\n        \"max\": 7200000.0,\n        \"num_unique_values\": 853,\n        \"samples\": [\n          120000.0,\n          294000.0,\n          545000.0\n        ],\n        \"semantic_type\": \"\",\n        \"description\": \"\"\n      }\n    },\n    {\n      \"column\": \"\\u793c\\u91d1\",\n      \"properties\": {\n        \"dtype\": \"number\",\n        \"std\": 110516.15879710422,\n        \"min\": 1700.0000000000002,\n        \"max\": 2250000.0,\n        \"num_unique_values\": 968,\n        \"samples\": [\n          32000.0,\n          400000.0,\n          442500.0\n        ],\n        \"semantic_type\": \"\",\n        \"description\": \"\"\n      }\n    },\n    {\n      \"column\": \"\\u5c02\\u6709\\u9762\\u7a4d\",\n      \"properties\": {\n        \"dtype\": \"number\",\n        \"std\": 17.468182942097773,\n        \"min\": 8.25,\n        \"max\": 221.16,\n        \"num_unique_values\": 5545,\n        \"samples\": [\n          47.81,\n          52.17,\n          70.69\n        ],\n        \"semantic_type\": \"\",\n        \"description\": \"\"\n      }\n    },\n    {\n      \"column\": \"\\u9593\\u53d6\\u308a_label\",\n      \"properties\": {\n        \"dtype\": \"number\",\n        \"std\": 9,\n        \"min\": 0,\n        \"max\": 31,\n        \"num_unique_values\": 32,\n        \"samples\": [\n          26,\n          12,\n          28\n        ],\n        \"semantic_type\": \"\",\n        \"description\": \"\"\n      }\n    },\n    {\n      \"column\": \"\\u90e8\\u5c4b\\u6570\",\n      \"properties\": {\n        \"dtype\": \"number\",\n        \"std\": 0,\n        \"min\": 1,\n        \"max\": 7,\n        \"num_unique_values\": 7,\n        \"samples\": [\n          1,\n          3,\n          5\n        ],\n        \"semantic_type\": \"\",\n        \"description\": \"\"\n      }\n    },\n    {\n      \"column\": \"LDK\",\n      \"properties\": {\n        \"dtype\": \"number\",\n        \"std\": 1,\n        \"min\": 0,\n        \"max\": 3,\n        \"num_unique_values\": 4,\n        \"samples\": [\n          1,\n          0,\n          3\n        ],\n        \"semantic_type\": \"\",\n        \"description\": \"\"\n      }\n    },\n    {\n      \"column\": \"S\",\n      \"properties\": {\n        \"dtype\": \"number\",\n        \"std\": 0,\n        \"min\": 0,\n        \"max\": 1,\n        \"num_unique_values\": 2,\n        \"samples\": [\n          1,\n          0\n        ],\n        \"semantic_type\": \"\",\n        \"description\": \"\"\n      }\n    },\n    {\n      \"column\": \"23\\u533a_label\",\n      \"properties\": {\n        \"dtype\": \"number\",\n        \"std\": 6,\n        \"min\": 0,\n        \"max\": 22,\n        \"num_unique_values\": 23,\n        \"samples\": [\n          14,\n          9\n        ],\n        \"semantic_type\": \"\",\n        \"description\": \"\"\n      }\n    },\n    {\n      \"column\": \"\\u8cc3\\u6599_\\u7ba1\\u7406\\u8cbb\\u5408\\u8a08\",\n      \"properties\": {\n        \"dtype\": \"number\",\n        \"std\": 87207.57469042203,\n        \"min\": 13700.0,\n        \"max\": 1590000.0,\n        \"num_unique_values\": 1007,\n        \"samples\": [\n          91100.0,\n          74100.0\n        ],\n        \"semantic_type\": \"\",\n        \"description\": \"\"\n      }\n    }\n  ]\n}"
            }
          },
          "metadata": {},
          "execution_count": 41
        }
      ]
    },
    {
      "cell_type": "code",
      "source": [
        "features = ['築年数', '階数', '階', '間取り_label', '部屋数', 'LDK', 'S','23区_label','最寄駅_label']"
      ],
      "metadata": {
        "id": "ZpN0rpcN19gO"
      },
      "execution_count": 62,
      "outputs": []
    },
    {
      "cell_type": "code",
      "source": [
        "target = '賃料_管理費合計'\n",
        "\n",
        "X = train[features]\n",
        "y = train[target]"
      ],
      "metadata": {
        "id": "27tksNgw8OSL"
      },
      "execution_count": 63,
      "outputs": []
    },
    {
      "cell_type": "code",
      "source": [
        "print(np.shape(X))\n",
        "print(np.shape(y))"
      ],
      "metadata": {
        "colab": {
          "base_uri": "https://localhost:8080/"
        },
        "id": "MwWAkpDA40Jv",
        "outputId": "602dd6ec-dfa5-42b2-eb74-fe3f24ae04b0"
      },
      "execution_count": 64,
      "outputs": [
        {
          "output_type": "stream",
          "name": "stdout",
          "text": [
            "(42872, 9)\n",
            "(42872,)\n"
          ]
        }
      ]
    },
    {
      "cell_type": "code",
      "source": [
        "#標準化\n",
        "scaler = StandardScaler()\n",
        "X_scaled = scaler.fit_transform(X)"
      ],
      "metadata": {
        "id": "JTECa4A48cri"
      },
      "execution_count": 65,
      "outputs": []
    },
    {
      "cell_type": "code",
      "source": [
        "# トレーニングデータとテストデータに分割\n",
        "X_train, X_test, y_train, y_test = train_test_split(X_scaled, y, test_size=0.3, random_state=42)"
      ],
      "metadata": {
        "id": "JwhqCfM68g2N"
      },
      "execution_count": 66,
      "outputs": []
    },
    {
      "cell_type": "markdown",
      "source": [
        "###線形回帰モデル"
      ],
      "metadata": {
        "id": "eGKbBw7WvUG2"
      }
    },
    {
      "cell_type": "code",
      "source": [
        "from sklearn.linear_model import LinearRegression\n",
        "from sklearn.metrics import mean_squared_error, mean_absolute_error, r2_score\n",
        "\n",
        "# 線形回帰モデル\n",
        "lr = LinearRegression()\n",
        "lr.fit(X_train, y_train)\n",
        "\n",
        "lr_train_pred = lr.predict(X_train)\n",
        "lr_valid_pred = lr.predict(X_test)\n",
        "\n",
        "# 評価指標の計算\n",
        "mae_train = mean_absolute_error(y_train, lr_train_pred)\n",
        "r2_train = r2_score(y_train, lr_train_pred)\n",
        "\n",
        "\n",
        "mae_valid = mean_absolute_error(y_test, lr_valid_pred)\n",
        "r2_valid = r2_score(y_test, lr_valid_pred)\n",
        "\n",
        "# ベースラインモデルの評価 (平均値モデル)\n",
        "baseline_pred = [y_train.mean()] * len(y_test)\n",
        "baseline_mae = mean_absolute_error(y_test, baseline_pred)\n",
        "\n",
        "\n",
        "# 精度\n",
        "percentage = 100 * (1 - mae_valid / baseline_mae)\n",
        "\n",
        "\n",
        "# 結果の表示\n",
        "print(f\"Train MAE: {mae_train}\")\n",
        "print(f\"Train R^2: {r2_train}\")\n",
        "\n",
        "\n",
        "print(f\"Valid MAE: {mae_valid}\")\n",
        "print(f\"Valid R^2: {r2_valid}\")\n",
        "print(f'Performance Percentage: {percentage:.2f}%')\n"
      ],
      "metadata": {
        "colab": {
          "base_uri": "https://localhost:8080/"
        },
        "id": "LQMXNtEshTzK",
        "outputId": "36da08bc-54ae-4134-aaa3-e58a5b031684"
      },
      "execution_count": 75,
      "outputs": [
        {
          "output_type": "stream",
          "name": "stdout",
          "text": [
            "Train MAE: 30504.42568197674\n",
            "Train R^2: 0.6314644528798916\n",
            "Valid MAE: 31191.243929609365\n",
            "Valid R^2: 0.6082662192803046\n",
            "Performance Percentage: 49.09%\n"
          ]
        }
      ]
    },
    {
      "cell_type": "markdown",
      "source": [
        "###GBDT(xgboost)"
      ],
      "metadata": {
        "id": "amyMn7u3vaAv"
      }
    },
    {
      "cell_type": "code",
      "source": [
        "from xgboost import XGBRegressor\n",
        "from sklearn.metrics import mean_squared_error, mean_absolute_error, r2_score\n",
        "from sklearn.model_selection import train_test_split\n",
        "\n",
        "# XGBoostの回帰モデル\n",
        "xgb = XGBRegressor(random_state=0)\n",
        "xgb.fit(X_train, y_train)\n",
        "\n",
        "# 予測\n",
        "xgb_train_pred = xgb.predict(X_train)\n",
        "xgb_test_pred = xgb.predict(X_test)\n",
        "\n",
        "# 評価指標の計算\n",
        "mae_train = mean_absolute_error(y_train, xgb_train_pred)\n",
        "r2_train = r2_score(y_train, xgb_train_pred)\n",
        "\n",
        "\n",
        "mae_test = mean_absolute_error(y_test, xgb_test_pred)\n",
        "r2_test = r2_score(y_test, xgb_test_pred)\n",
        "\n",
        "\n",
        "# ベースラインモデルの評価 (平均値モデル)\n",
        "baseline_pred = [y_train.mean()] * len(y_test)\n",
        "baseline_mae = mean_absolute_error(y_test, baseline_pred)\n",
        "\n",
        "\n",
        "# 精度\n",
        "percentage = 100 * (1 - mae_valid / baseline_mae)\n",
        "\n",
        "# 結果の表示\n",
        "print(f\"Train MAE: {mae_train}\")\n",
        "print(f\"Train R^2: {r2_train}\")\n",
        "\n",
        "print(f\"Test MAE: {mae_test}\")\n",
        "print(f\"Test R^2: {r2_test}\")\n",
        "print(f'Performance Percentage: {percentage:.2f}%')"
      ],
      "metadata": {
        "colab": {
          "base_uri": "https://localhost:8080/"
        },
        "id": "mDQeMtZLjI8o",
        "outputId": "6b60564a-b38e-4192-a406-fceed946c60b"
      },
      "execution_count": 76,
      "outputs": [
        {
          "output_type": "stream",
          "name": "stdout",
          "text": [
            "Train MAE: 15496.66090066332\n",
            "Train R^2: 0.9194670136992844\n",
            "Test MAE: 18786.31274433044\n",
            "Test R^2: 0.8565853688646576\n",
            "Performance Percentage: 49.09%\n"
          ]
        }
      ]
    },
    {
      "cell_type": "code",
      "source": [
        "\"\"\"線形回帰モデルとGBDTのアンサンブル\"\"\"\n",
        "train_pred = (lr_train_pred + xgb_train_pred) / 2\n",
        "valid_pred = (lr_valid_pred + xgb_test_pred) / 2\n",
        "\n",
        "# 評価指標の計算\n",
        "mae_train = mean_absolute_error(y_train, train_pred)\n",
        "r2_train = r2_score(y_train, train_pred)\n",
        "\n",
        "mae_valid = mean_absolute_error(y_test, valid_pred)\n",
        "r2_valid = r2_score(y_test, valid_pred)\n",
        "\n",
        "# ベースラインモデルの評価 (平均値モデル)\n",
        "baseline_pred = [y_train.mean()] * len(y_test)\n",
        "baseline_mae = mean_absolute_error(y_test, baseline_pred)\n",
        "\n",
        "\n",
        "# 精度\n",
        "percentage = 100 * (1 - mae_valid / baseline_mae)\n",
        "\n",
        "# 結果の表示\n",
        "print(f\"Train MAE: {mae_train}\")\n",
        "print(f\"Train R^2: {r2_train}\")\n",
        "\n",
        "print(f\"Valid MAE: {mae_valid}\")\n",
        "print(f\"Valid R^2: {r2_valid}\")\n",
        "print(f'Performance Percentage: {percentage:.2f}%')"
      ],
      "metadata": {
        "colab": {
          "base_uri": "https://localhost:8080/"
        },
        "id": "lTIDggiBma9h",
        "outputId": "bbb8f82a-9abd-4cd1-ba77-73007dab80db"
      },
      "execution_count": 77,
      "outputs": [
        {
          "output_type": "stream",
          "name": "stdout",
          "text": [
            "Train MAE: 21336.01838607864\n",
            "Train R^2: 0.8318607942073931\n",
            "Valid MAE: 23055.780174865264\n",
            "Valid R^2: 0.7887536026190588\n",
            "Performance Percentage: 62.37%\n"
          ]
        }
      ]
    },
    {
      "cell_type": "markdown",
      "source": [
        "###LightGBM"
      ],
      "metadata": {
        "id": "IkdXsK5WvjhG"
      }
    },
    {
      "cell_type": "code",
      "source": [
        "# LightGBM\n",
        "train_data = lgb.Dataset(X_train, label=y_train)\n",
        "test_data = lgb.Dataset(X_test, label=y_test, reference=train_data)\n",
        "\n",
        "# LightGBMのハイパーパラメータ\n",
        "params = {\n",
        "    'objective': 'regression',\n",
        "    'metric': 'mae',\n",
        "    'boosting_type': 'gbdt',\n",
        "    'num_leaves': 31,\n",
        "    'learning_rate': 0.05,\n",
        "    'feature_fraction': 0.9\n",
        "}\n",
        "\n",
        "# モデルのトレーニング\n",
        "model = lgb.train(params, train_data, num_boost_round=1000, valid_sets=[test_data])\n",
        "\n",
        "# 予測\n",
        "y_pred = model.predict(X_test, num_iteration=model.best_iteration)\n",
        "\n",
        "\n",
        "# モデルの評価\n",
        "mae = mean_absolute_error(y_test, y_pred)\n",
        "print(f'Mean Absolute Error: {mae}')"
      ],
      "metadata": {
        "colab": {
          "base_uri": "https://localhost:8080/"
        },
        "id": "g05QbSbY819w",
        "outputId": "04d27854-cfa5-48df-d5a7-e41f784ed694"
      },
      "execution_count": 67,
      "outputs": [
        {
          "output_type": "stream",
          "name": "stdout",
          "text": [
            "[LightGBM] [Info] Auto-choosing row-wise multi-threading, the overhead of testing was 0.092483 seconds.\n",
            "You can set `force_row_wise=true` to remove the overhead.\n",
            "And if memory is not enough, you can set `force_col_wise=true`.\n",
            "[LightGBM] [Info] Total Bins 499\n",
            "[LightGBM] [Info] Number of data points in the train set: 30010, number of used features: 9\n",
            "[LightGBM] [Info] Start training from score 146535.364245\n",
            "Mean Absolute Error: 17922.00547364523\n"
          ]
        }
      ]
    },
    {
      "cell_type": "code",
      "source": [
        "# モデルの評価\n",
        "model_mae = mean_absolute_error(y_test, y_pred)\n",
        "r2 = r2_score(y_test, y_pred)\n",
        "\n",
        "# ベースラインモデルの評価 (平均値モデル)\n",
        "baseline_pred = [y_train.mean()] * len(y_test)\n",
        "baseline_mae = mean_absolute_error(y_test, baseline_pred)\n",
        "\n",
        "\n",
        "# 精度\n",
        "percentage = 100 * (1 - model_mae / baseline_mae)\n",
        "print(f'Model MAE: {model_mae}')\n",
        "print(f'Baseline MAE: {baseline_mae}')\n",
        "print(f'Performance Percentage: {percentage:.2f}%')\n",
        "print(f'R² (Coefficient of Determination): {r2:.4f}')"
      ],
      "metadata": {
        "colab": {
          "base_uri": "https://localhost:8080/"
        },
        "id": "Bl4hsx52B1LS",
        "outputId": "55725f2f-dc53-418b-fb4a-bbab31fd4ca0"
      },
      "execution_count": 69,
      "outputs": [
        {
          "output_type": "stream",
          "name": "stdout",
          "text": [
            "Model MAE: 17922.00547364523\n",
            "Baseline MAE: 61265.51753781756\n",
            "Performance Percentage: 70.75%\n",
            "R² (Coefficient of Determination): 0.8671\n"
          ]
        }
      ]
    },
    {
      "cell_type": "markdown",
      "source": [
        "#家賃推定テスト\n"
      ],
      "metadata": {
        "id": "zVMxMbcOhMtL"
      }
    },
    {
      "cell_type": "code",
      "source": [
        "new_data = pd.DataFrame({\n",
        "    '築年数': [13],\n",
        "    '階数': [5],\n",
        "    '階': [2],\n",
        "    '間取り': ['1LDK'],\n",
        "    '23区':['葛飾区'],\n",
        "    '最寄駅':['綾瀬駅']\n",
        "})\n",
        "\n",
        "le = LabelEncoder()\n",
        "new_data['間取り_label'] = le.fit_transform(new_data['間取り'])\n",
        "new_data['23区_label'] = le.fit_transform(new_data['23区'])\n",
        "new_data['最寄駅_label'] = le.fit_transform(new_data['最寄駅'])\n",
        "\n",
        "\n",
        "new_data['部屋数'] = new_data['間取り'].apply(lambda x: 1 if 'ワンルーム' in x else int(x[0]) if x[0].isdigit() else 0)\n",
        "new_data['LDK'] = new_data['間取り'].apply(lambda x: sum([x.count(c) for c in 'LDK']))\n",
        "new_data['S'] = new_data['間取り'].apply(lambda x: 1 if 'S' in x else 0)\n",
        "\n",
        "# 標準化\n",
        "X_new = new_data[features]\n",
        "X_new_scaled = scaler.transform(X_new)\n",
        "\n",
        "#賃料の推定\n",
        "y_pred = model.predict(X_new_scaled, num_iteration=model.best_iteration)\n",
        "\n",
        "print('推定賃料:', y_pred[0])"
      ],
      "metadata": {
        "id": "GC0YigizYQzi",
        "colab": {
          "base_uri": "https://localhost:8080/"
        },
        "outputId": "36c71887-e4d3-481f-b720-1270dbc34633"
      },
      "execution_count": 74,
      "outputs": [
        {
          "output_type": "stream",
          "name": "stdout",
          "text": [
            "推定賃料: 148965.26187435992\n"
          ]
        }
      ]
    },
    {
      "cell_type": "markdown",
      "source": [
        "#補足"
      ],
      "metadata": {
        "id": "3sFQqG-S8PH2"
      }
    },
    {
      "cell_type": "code",
      "source": [
        "\"\"\"['間取り']のデータ処理\"\"\"\n",
        "\n",
        "# selected_data['間取り_label'] = LabelEncoder().fit_transform(selected_data['間取り'])\n",
        "\n",
        "# # 部屋数、LDK数、Sの有無を特徴量として追加\n",
        "# # ワンルームは部屋数を1に設定\n",
        "# selected_data['部屋数'] = selected_data['間取り'].apply(lambda x: 1 if 'ワンルーム' in x else int(x[0]) if x[0].isdigit() else 0)\n",
        "# selected_data['LDK'] = selected_data['間取り'].apply(lambda x: sum([x.count(c) for c in 'LDK']))\n",
        "# selected_data['S'] = selected_data['間取り'].apply(lambda x: 1 if 'S' in x else 0)\n",
        "\n",
        "\"\"\"['23区']のデータ処理\"\"\"\n",
        "# le = LabelEncoder()\n",
        "# selected_data['23区_label'] = le.fit_transform(selected_data['23区'])\n",
        "\n",
        "\"\"\"['賃料']['管理費']のデータ処理\"\"\"\n",
        "#selected_data['賃料_管理費合計'] = selected_data['賃料'] + selected_data['管理費']"
      ],
      "metadata": {
        "colab": {
          "base_uri": "https://localhost:8080/",
          "height": 35
        },
        "id": "Lt9eX2Sw8RiN",
        "outputId": "185f158c-12db-4faa-ee3b-2adfab6fc4a9"
      },
      "execution_count": 40,
      "outputs": [
        {
          "output_type": "execute_result",
          "data": {
            "text/plain": [
              "\"['間取り']のデータ処理\""
            ],
            "application/vnd.google.colaboratory.intrinsic+json": {
              "type": "string"
            }
          },
          "metadata": {},
          "execution_count": 40
        }
      ]
    },
    {
      "cell_type": "code",
      "source": [],
      "metadata": {
        "id": "bnq3R7yW8cMC"
      },
      "execution_count": null,
      "outputs": []
    }
  ]
}
